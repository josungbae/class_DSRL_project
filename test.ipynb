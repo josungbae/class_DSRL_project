{
 "cells": [
  {
   "cell_type": "code",
   "execution_count": 1,
   "metadata": {},
   "outputs": [],
   "source": [
    "import numpy as np"
   ]
  },
  {
   "cell_type": "code",
   "execution_count": 2,
   "metadata": {},
   "outputs": [
    {
     "data": {
      "text/plain": [
       "array([0, 1, 2, 3, 4, 5, 6, 7, 8, 9])"
      ]
     },
     "execution_count": 2,
     "metadata": {},
     "output_type": "execute_result"
    }
   ],
   "source": [
    "v = np.arange(10)\n",
    "v"
   ]
  },
  {
   "cell_type": "code",
   "execution_count": 7,
   "metadata": {},
   "outputs": [],
   "source": [
    "v = np.array([[1,2],[3,4]])"
   ]
  },
  {
   "cell_type": "code",
   "execution_count": 13,
   "metadata": {},
   "outputs": [],
   "source": [
    "v = np.ravel(v, order='C')"
   ]
  },
  {
   "cell_type": "code",
   "execution_count": 9,
   "metadata": {},
   "outputs": [],
   "source": [
    "import collections"
   ]
  },
  {
   "cell_type": "code",
   "execution_count": 14,
   "metadata": {},
   "outputs": [
    {
     "data": {
      "text/plain": [
       "Counter({1: 1, 2: 1, 3: 1, 4: 1})"
      ]
     },
     "execution_count": 14,
     "metadata": {},
     "output_type": "execute_result"
    }
   ],
   "source": [
    "collections.Counter(v)"
   ]
  },
  {
   "cell_type": "code",
   "execution_count": 4,
   "metadata": {},
   "outputs": [
    {
     "data": {
      "text/plain": [
       "array([1., 1., 1., 1., 1., 0., 0., 0., 0., 0.], dtype=float32)"
      ]
     },
     "execution_count": 4,
     "metadata": {},
     "output_type": "execute_result"
    }
   ],
   "source": [
    "(v <= 4).astype('float32')"
   ]
  },
  {
   "cell_type": "code",
   "execution_count": 5,
   "metadata": {},
   "outputs": [
    {
     "data": {
      "text/plain": [
       "array([1, 0, 0])"
      ]
     },
     "execution_count": 5,
     "metadata": {},
     "output_type": "execute_result"
    }
   ],
   "source": [
    "np.random.binomial(1, 0.5, 3)"
   ]
  },
  {
   "cell_type": "code",
   "execution_count": 8,
   "metadata": {},
   "outputs": [],
   "source": [
    "def test(param1, param2=None):\n",
    "    if param2 == None:\n",
    "        print(param1)\n",
    "    else: print(param2)"
   ]
  },
  {
   "cell_type": "code",
   "execution_count": 10,
   "metadata": {},
   "outputs": [
    {
     "name": "stdout",
     "output_type": "stream",
     "text": [
      "2\n"
     ]
    }
   ],
   "source": [
    "test(1,2)"
   ]
  },
  {
   "cell_type": "code",
   "execution_count": 16,
   "metadata": {},
   "outputs": [],
   "source": [
    "from collections import Counter\n",
    "import torch"
   ]
  },
  {
   "cell_type": "code",
   "execution_count": 17,
   "metadata": {},
   "outputs": [],
   "source": [
    "a = list()\n",
    "a.append(torch.tensor([1,2]))\n",
    "a.append(torch.tensor([3,4]))"
   ]
  },
  {
   "cell_type": "code",
   "execution_count": 22,
   "metadata": {},
   "outputs": [
    {
     "ename": "AttributeError",
     "evalue": "module 'torch' has no attribute 'to_numpy'",
     "output_type": "error",
     "traceback": [
      "\u001b[0;31m---------------------------------------------------------------------------\u001b[0m",
      "\u001b[0;31mAttributeError\u001b[0m                            Traceback (most recent call last)",
      "\u001b[1;32m/home/sungbae/DSRL_PROJECT/test.ipynb Cell 9'\u001b[0m in \u001b[0;36m<cell line: 1>\u001b[0;34m()\u001b[0m\n\u001b[0;32m----> <a href='vscode-notebook-cell://wsl%2Bubuntu-20.04/home/sungbae/DSRL_PROJECT/test.ipynb#ch0000010vscode-remote?line=0'>1</a>\u001b[0m torch\u001b[39m.\u001b[39;49mto_numpy(torch\u001b[39m.\u001b[39margmax(a[\u001b[39m1\u001b[39m]))\n",
      "\u001b[0;31mAttributeError\u001b[0m: module 'torch' has no attribute 'to_numpy'"
     ]
    }
   ],
   "source": [
    "torch.to_numpy(torch.argmax(a[1]))"
   ]
  },
  {
   "cell_type": "code",
   "execution_count": 15,
   "metadata": {},
   "outputs": [
    {
     "data": {
      "text/plain": [
       "True"
      ]
     },
     "execution_count": 15,
     "metadata": {},
     "output_type": "execute_result"
    }
   ],
   "source": [
    "action_list = [1,1,1,1,2,2,2]\n",
    "c = Counter(action_list)\n",
    "float(c.most_common(1)[0][0]) == 1"
   ]
  },
  {
   "cell_type": "code",
   "execution_count": 27,
   "metadata": {},
   "outputs": [
    {
     "data": {
      "text/plain": [
       "tensor([3, 1, 2])"
      ]
     },
     "execution_count": 27,
     "metadata": {},
     "output_type": "execute_result"
    }
   ],
   "source": [
    "b = torch.tensor([3,1,2])\n",
    "b"
   ]
  },
  {
   "cell_type": "code",
   "execution_count": 33,
   "metadata": {},
   "outputs": [
    {
     "data": {
      "text/plain": [
       "0"
      ]
     },
     "execution_count": 33,
     "metadata": {},
     "output_type": "execute_result"
    }
   ],
   "source": [
    "int(np.argmax(b))"
   ]
  },
  {
   "cell_type": "code",
   "execution_count": 16,
   "metadata": {},
   "outputs": [],
   "source": [
    "class test():\n",
    "    def __init__(self):\n",
    "        self.a = 1\n",
    "        self.auc = self.train()\n",
    "\n",
    "    def train(self):\n",
    "        self.a = 2\n",
    "        print('ddd')\n",
    "        b=3\n",
    "        return b"
   ]
  },
  {
   "cell_type": "code",
   "execution_count": 17,
   "metadata": {},
   "outputs": [
    {
     "name": "stdout",
     "output_type": "stream",
     "text": [
      "ddd\n"
     ]
    }
   ],
   "source": [
    "t = test()"
   ]
  },
  {
   "cell_type": "code",
   "execution_count": 1,
   "metadata": {},
   "outputs": [],
   "source": [
    "a = 1"
   ]
  },
  {
   "cell_type": "code",
   "execution_count": 2,
   "metadata": {},
   "outputs": [],
   "source": [
    "def test():\n",
    "    b = 2\n",
    "    if a==1:\n",
    "        return b\n",
    "    return b+1"
   ]
  },
  {
   "cell_type": "code",
   "execution_count": 3,
   "metadata": {},
   "outputs": [
    {
     "data": {
      "text/plain": [
       "2"
      ]
     },
     "execution_count": 3,
     "metadata": {},
     "output_type": "execute_result"
    }
   ],
   "source": [
    "test()"
   ]
  },
  {
   "cell_type": "code",
   "execution_count": 7,
   "metadata": {},
   "outputs": [],
   "source": [
    "s = np.array([0], dtype=np.float32)"
   ]
  },
  {
   "cell_type": "code",
   "execution_count": 8,
   "metadata": {},
   "outputs": [
    {
     "name": "stdout",
     "output_type": "stream",
     "text": [
      "[0.]\n"
     ]
    }
   ],
   "source": [
    "print(s)"
   ]
  },
  {
   "cell_type": "code",
   "execution_count": 10,
   "metadata": {},
   "outputs": [],
   "source": [
    "LEFT = 0\n",
    "UP = 1\n",
    "RIGHT = 2\n",
    "DOWN = 3\n",
    "\n",
    "other_prob = 0"
   ]
  },
  {
   "cell_type": "code",
   "execution_count": 11,
   "metadata": {},
   "outputs": [],
   "source": [
    "tmp = [[UP, DOWN, LEFT, RIGHT],\n",
    "                   [DOWN, LEFT, RIGHT, UP],\n",
    "                   [LEFT, RIGHT, UP, DOWN],\n",
    "                   [RIGHT, UP, DOWN, LEFT]]\n",
    "tmp_dirs = [[[-1, 0], [1, 0], [0, -1], [0, 1]],\n",
    "                        [[1, 0], [0, -1], [0, 1], [-1, 0]],\n",
    "                        [[0, -1], [0, 1], [-1, 0], [1, 0]],\n",
    "                        [[0, 1], [-1, 0], [1, 0], [0, -1]]]\n",
    "tmp_pros = [[1 ,other_prob, other_prob, other_prob],\n",
    "                        [1, other_prob, other_prob, other_prob],\n",
    "                        [1, other_prob, other_prob, other_prob],\n",
    "                        [1, other_prob, other_prob, other_prob], ]"
   ]
  },
  {
   "cell_type": "code",
   "execution_count": 12,
   "metadata": {},
   "outputs": [
    {
     "data": {
      "text/plain": [
       "<zip at 0x7f1970a4cf80>"
      ]
     },
     "execution_count": 12,
     "metadata": {},
     "output_type": "execute_result"
    }
   ],
   "source": [
    "for acts, dirs, probs in zip(tmp, tmp_dirs, tmp_pros):\n",
    "                P[s][acts[0]] = self._calculate_transition_prob(position, dirs, probs)"
   ]
  },
  {
   "cell_type": "code",
   "execution_count": 14,
   "metadata": {},
   "outputs": [],
   "source": [
    "import numpy as np\n",
    "import sys\n",
    "from io import StringIO\n",
    "from typing import Tuple\n",
    "from gym.envs.toy_text.discrete import DiscreteEnv\n",
    "import time\n",
    "from scipy.spatial.distance import cityblock\n",
    "\n",
    "LEFT = 0\n",
    "UP = 1\n",
    "RIGHT = 2\n",
    "DOWN = 3\n",
    "\n",
    "\n",
    "class Specs:\n",
    "    def __init__(self, max_steps):\n",
    "        self.max_episode_steps = max_steps\n",
    "\n",
    "\n",
    "class GridCore(DiscreteEnv):\n",
    "    metadata = {'render.modes': ['human', 'ansi']}\n",
    "\n",
    "    def __init__(self, shape: Tuple[int] = (5, 10), start: Tuple[int] = (0, 0),\n",
    "                 goal: Tuple[int] = (0, 9), max_steps: int = 100,\n",
    "                 percentage_reward: bool = False, no_goal_rew: bool = False,\n",
    "                 dense_reward: bool = False, numpy_state: bool = True,\n",
    "                 xy_state: bool = False):\n",
    "        try:\n",
    "            self.shape = self._shape\n",
    "        except AttributeError:\n",
    "            self.shape = shape\n",
    "        self.nS = np.prod(self.shape, dtype=int)  # type: int\n",
    "        self.nA = 4\n",
    "        self.start = start\n",
    "        self.goal = goal\n",
    "        self.max_steps = max_steps\n",
    "        self._steps = 0\n",
    "        self._pr = percentage_reward\n",
    "        self._no_goal_rew = no_goal_rew\n",
    "        self.total_steps = 0\n",
    "        self._dr = dense_reward\n",
    "        self.spec = Specs(max_steps)\n",
    "        self._nps = numpy_state # 얘가 True면 state가 1차원 array,\n",
    "        self.xy = xy_state # 얘가 True면 state가 2차원 array 인듯.\n",
    "\n",
    "        P = self._init_transition_probability()\n",
    "\n",
    "        # We always start in state (3, 0)\n",
    "        if start is not None:\n",
    "            isd = np.zeros(self.nS)\n",
    "            isd[np.ravel_multi_index(start, self.shape)] = 1.0\n",
    "        else:\n",
    "            isd = np.ones(self.nS)\n",
    "            isd[np.ravel_multi_index(goal, self.shape)] = 0.0\n",
    "            for pit in self._pits:\n",
    "                isd[pit] = 0.0\n",
    "            isd *= 1 / (self.nS - len(self._pits) - 1)\n",
    "\n",
    "        super(GridCore, self).__init__(self.nS, self.nA, P, isd)\n",
    "\n",
    "    def step(self, a):\n",
    "        self._steps += 1\n",
    "        s, r, d, i = super(GridCore, self).step(a)\n",
    "        if self.xy:\n",
    "            self.s = np.ravel_multi_index(self.s, self.shape)\n",
    "        if self._steps >= self.max_steps:\n",
    "            d = True\n",
    "            i['early'] = True\n",
    "            i['needs_reset'] = True\n",
    "        self.total_steps += 1\n",
    "        if self._nps:\n",
    "            return np.array([s], dtype=np.float32), r, d, i\n",
    "        # for one hot state\n",
    "        s = np.eye(self.observation_space.n)[s]\n",
    "        return s, r, d, i\n",
    "\n",
    "    def reset(self):\n",
    "        self._steps = 0\n",
    "        # print(self.isd)\n",
    "        self.s = np.random.choice(range(len(self.isd)), p=self.isd)\n",
    "        self.lastaction = None\n",
    "        if self.xy:\n",
    "            s = np.unravel_index(self.s, self.shape)\n",
    "            if self._nps:\n",
    "                return np.array([s], dtype=np.float32)\n",
    "            else:\n",
    "                return s\n",
    "        if self._nps:\n",
    "            return np.array([self.s], dtype=np.float32)\n",
    "        # for one hot state\n",
    "        # s = np.eye(self.observation_space.n)[self.s] # 이부분 수정함\n",
    "        return self.s # step 함수에서는 onehot encoding 하는데 얘는 왜 안할까..?\n",
    "\n",
    "    def _init_transition_probability(self):\n",
    "        raise NotImplementedError\n",
    "\n",
    "    def _check_bounds(self, coord):\n",
    "        coord[0] = min(coord[0], self.shape[0] - 1)\n",
    "        coord[0] = max(coord[0], 0)\n",
    "        coord[1] = min(coord[1], self.shape[1] - 1)\n",
    "        coord[1] = max(coord[1], 0)\n",
    "        return coord\n",
    "\n",
    "    def print_T(self):\n",
    "        print(self.P[self.s])\n",
    "\n",
    "    def map_output(self, s, pos):\n",
    "        if self.s == s:\n",
    "            output = \" x \"\n",
    "        elif pos == self.goal:\n",
    "            output = \" T \"\n",
    "        else:\n",
    "            output = \" o \"\n",
    "        return output\n",
    "\n",
    "    def map_control_output(self, s, pos):\n",
    "        return self.map_output(s, pos)\n",
    "\n",
    "    def map_with_inbetween_goal(self, s, pos, in_between_goal):\n",
    "        return self.map_output(s, pos)\n",
    "\n",
    "    def render(self, mode='human', close=False, in_control=None, in_between_goal=None):\n",
    "        self._render(mode, close, in_control, in_between_goal)\n",
    "\n",
    "    def _render(self, mode='human', close=False, in_control=None, in_between_goal=None):\n",
    "        if close:\n",
    "            return\n",
    "        outfile = StringIO() if mode == 'ansi' else sys.stdout\n",
    "        if mode == 'human':\n",
    "            print('\\033[2;0H')\n",
    "\n",
    "        for s in range(self.nS):\n",
    "            position = np.unravel_index(s, self.shape)\n",
    "            # print(self.s)\n",
    "            if in_control:\n",
    "                output = self.map_control_output(s, position)\n",
    "            elif in_between_goal:\n",
    "                output = self.map_with_inbetween_goal(s, position, in_between_goal)\n",
    "            else:\n",
    "                output = self.map_output(s, position)\n",
    "            if position[1] == 0:\n",
    "                output = output.lstrip()\n",
    "            if position[1] == self.shape[1] - 1:\n",
    "                output = output.rstrip()\n",
    "                output += \"\\n\"\n",
    "            outfile.write(output)\n",
    "        outfile.write(\"\\n\")\n",
    "        if mode == 'human':\n",
    "            if in_control:\n",
    "                time.sleep(0.2)\n",
    "            else:\n",
    "                time.sleep(0.05)\n",
    "\n",
    "\n",
    "class FallEnv(GridCore):\n",
    "    _pits = []\n",
    "\n",
    "    def __init__(self, act_fail_prob: float = 1.0, **kwargs):\n",
    "        self.afp = act_fail_prob\n",
    "        super(FallEnv, self).__init__(**kwargs)\n",
    "\n",
    "    def _calculate_transition_prob(self, current, delta, prob):\n",
    "        transitions = []\n",
    "        for d, p in zip(delta, prob):\n",
    "            new_position = np.array(current) + np.array(d)\n",
    "            new_position = self._check_bounds(new_position).astype(int)\n",
    "            new_state = np.ravel_multi_index(tuple(new_position), self.shape)\n",
    "            if not self._dr:\n",
    "                reward = -0.01\n",
    "                is_done = False\n",
    "                if tuple(new_position) == self.goal:\n",
    "                    if self._pr:\n",
    "                        reward = 1 - (self._steps / self.max_steps)\n",
    "                    elif not self._no_goal_rew:\n",
    "                        reward = 1.0\n",
    "                    is_done = True\n",
    "                elif new_state in self._pits:\n",
    "                    reward = -1.\n",
    "                    is_done = True\n",
    "                transitions.append((p, new_position if self.xy else new_state, reward, is_done))\n",
    "            else:\n",
    "                reward = -cityblock(new_position, self.goal)\n",
    "                is_done = False\n",
    "                if tuple(new_position) == self.goal:\n",
    "                    if self._pr:\n",
    "                        reward = 1 - (self._steps / self.max_steps)\n",
    "                    elif not self._no_goal_rew:\n",
    "                        reward = 100.0\n",
    "                    is_done = True\n",
    "                elif new_state in self._pits:\n",
    "                    reward = -100\n",
    "                    is_done = True\n",
    "                transitions.append((p, new_position if self.xy else new_state, reward, is_done))\n",
    "        return transitions\n",
    "\n",
    "    def _init_transition_probability(self):\n",
    "        for idx, p in enumerate(self._pits):\n",
    "            try:\n",
    "                self._pits[idx] = np.ravel_multi_index(p, self.shape)\n",
    "            except:\n",
    "                pass  # <- this has to be here for the agent. Otherwise it throws an unexplainable error\n",
    "        # Calculate transition probabilities\n",
    "        P = {}\n",
    "        for s in range(self.nS):\n",
    "            position = np.unravel_index(s, self.shape)\n",
    "            P[s] = {a: [] for a in range(self.nA)}\n",
    "            other_prob = self.afp / 3.\n",
    "            tmp = [[UP, DOWN, LEFT, RIGHT],\n",
    "                   [DOWN, LEFT, RIGHT, UP],\n",
    "                   [LEFT, RIGHT, UP, DOWN],\n",
    "                   [RIGHT, UP, DOWN, LEFT]]\n",
    "            tmp_dirs = [[[-1, 0], [1, 0], [0, -1], [0, 1]],\n",
    "                        [[1, 0], [0, -1], [0, 1], [-1, 0]],\n",
    "                        [[0, -1], [0, 1], [-1, 0], [1, 0]],\n",
    "                        [[0, 1], [-1, 0], [1, 0], [0, -1]]]\n",
    "            tmp_pros = [[1 - self.afp, other_prob, other_prob, other_prob],\n",
    "                        [1 - self.afp, other_prob, other_prob, other_prob],\n",
    "                        [1 - self.afp, other_prob, other_prob, other_prob],\n",
    "                        [1 - self.afp, other_prob, other_prob, other_prob], ]\n",
    "            for acts, dirs, probs in zip(tmp, tmp_dirs, tmp_pros):\n",
    "                P[s][acts[0]] = self._calculate_transition_prob(position, dirs, probs)\n",
    "        return P\n",
    "\n",
    "    def map_output(self, s, pos):\n",
    "        if self.s == s:\n",
    "            output = \" \\u001b[33m*\\u001b[37m \"\n",
    "        elif pos == self.goal:\n",
    "            output = \" \\u001b[37mX\\u001b[37m \"\n",
    "        elif s in self._pits:\n",
    "            output = \" \\u001b[31m.\\u001b[37m \"\n",
    "        else:\n",
    "            output = \" \\u001b[30mo\\u001b[37m \"\n",
    "        return output\n",
    "\n",
    "    def map_control_output(self, s, pos):\n",
    "        if self.s == s:\n",
    "            return \" \\u001b[34m*\\u001b[37m \"\n",
    "        else:\n",
    "            return self.map_output(s, pos)\n",
    "\n",
    "    def map_with_inbetween_goal(self, s, pos, in_between_goal):\n",
    "        if s == in_between_goal:\n",
    "            return \" \\u001b[34mx\\u001b[37m \"\n",
    "        else:\n",
    "            return self.map_output(s, pos)\n",
    "\n",
    "\n",
    "class ZigZag6x10(FallEnv):\n",
    "    _pits = [[0, 2], [0, 3],\n",
    "             [1, 2], [1, 3],\n",
    "             [2, 2], [2, 3],\n",
    "             [3, 2], [3, 3],\n",
    "             [5, 7], [5, 6],\n",
    "             [4, 7], [4, 6],\n",
    "             [3, 7], [3, 6],\n",
    "             [2, 7], [2, 6],\n",
    "             ]\n",
    "    _shape = (6, 10)"
   ]
  },
  {
   "cell_type": "code",
   "execution_count": 15,
   "metadata": {},
   "outputs": [],
   "source": [
    "import numpy as np"
   ]
  },
  {
   "cell_type": "code",
   "execution_count": 15,
   "metadata": {},
   "outputs": [],
   "source": [
    "a = np.zeros(10)\n",
    "b = np.zeros(10)"
   ]
  },
  {
   "cell_type": "code",
   "execution_count": 16,
   "metadata": {},
   "outputs": [],
   "source": [
    "a[2] = 1\n",
    "b[3] = 2"
   ]
  },
  {
   "cell_type": "code",
   "execution_count": 17,
   "metadata": {},
   "outputs": [
    {
     "data": {
      "text/plain": [
       "array([0., 0., 1., 0., 0., 0., 0., 0., 0., 0.])"
      ]
     },
     "execution_count": 17,
     "metadata": {},
     "output_type": "execute_result"
    }
   ],
   "source": [
    "a"
   ]
  },
  {
   "cell_type": "code",
   "execution_count": 18,
   "metadata": {},
   "outputs": [
    {
     "data": {
      "text/plain": [
       "array([0., 0., 0., 2., 0., 0., 0., 0., 0., 0.])"
      ]
     },
     "execution_count": 18,
     "metadata": {},
     "output_type": "execute_result"
    }
   ],
   "source": [
    "b"
   ]
  },
  {
   "cell_type": "code",
   "execution_count": 19,
   "metadata": {},
   "outputs": [
    {
     "data": {
      "text/plain": [
       "2"
      ]
     },
     "execution_count": 19,
     "metadata": {},
     "output_type": "execute_result"
    }
   ],
   "source": [
    "np.where(a==True)[0][0]"
   ]
  },
  {
   "cell_type": "code",
   "execution_count": 21,
   "metadata": {},
   "outputs": [
    {
     "ename": "IndexError",
     "evalue": "index 0 is out of bounds for axis 0 with size 0",
     "output_type": "error",
     "traceback": [
      "\u001b[0;31m---------------------------------------------------------------------------\u001b[0m",
      "\u001b[0;31mIndexError\u001b[0m                                Traceback (most recent call last)",
      "\u001b[1;32m/home/sungbae/DSRL_PROJECT/test.ipynb Cell 34'\u001b[0m in \u001b[0;36m<cell line: 2>\u001b[0;34m()\u001b[0m\n\u001b[1;32m      <a href='vscode-notebook-cell://wsl%2Bubuntu-20.04/home/sungbae/DSRL_PROJECT/test.ipynb#ch0000030vscode-remote?line=0'>1</a>\u001b[0m aa \u001b[39m=\u001b[39m np\u001b[39m.\u001b[39munravel_index(np\u001b[39m.\u001b[39mwhere(a\u001b[39m==\u001b[39m\u001b[39mTrue\u001b[39;00m)[\u001b[39m0\u001b[39m][\u001b[39m0\u001b[39m],(\u001b[39m6\u001b[39m,\u001b[39m10\u001b[39m))\n\u001b[0;32m----> <a href='vscode-notebook-cell://wsl%2Bubuntu-20.04/home/sungbae/DSRL_PROJECT/test.ipynb#ch0000030vscode-remote?line=1'>2</a>\u001b[0m bb \u001b[39m=\u001b[39m np\u001b[39m.\u001b[39munravel_index(np\u001b[39m.\u001b[39;49mwhere(b\u001b[39m==\u001b[39;49m\u001b[39mTrue\u001b[39;49;00m)[\u001b[39m0\u001b[39;49m][\u001b[39m0\u001b[39;49m],(\u001b[39m6\u001b[39m,\u001b[39m10\u001b[39m))\n",
      "\u001b[0;31mIndexError\u001b[0m: index 0 is out of bounds for axis 0 with size 0"
     ]
    }
   ],
   "source": [
    "aa = np.unravel_index(np.where(a==True)[0][0],(6,10))\n",
    "bb = np.unravel_index(np.where(b==True)[0][0],(6,10))"
   ]
  },
  {
   "cell_type": "code",
   "execution_count": 26,
   "metadata": {},
   "outputs": [
    {
     "data": {
      "text/plain": [
       "(0, 2)"
      ]
     },
     "execution_count": 26,
     "metadata": {},
     "output_type": "execute_result"
    }
   ],
   "source": [
    "aa"
   ]
  },
  {
   "cell_type": "code",
   "execution_count": 27,
   "metadata": {},
   "outputs": [
    {
     "data": {
      "text/plain": [
       "(0, 3)"
      ]
     },
     "execution_count": 27,
     "metadata": {},
     "output_type": "execute_result"
    }
   ],
   "source": [
    "bb"
   ]
  },
  {
   "cell_type": "code",
   "execution_count": 28,
   "metadata": {},
   "outputs": [
    {
     "ename": "TypeError",
     "evalue": "unsupported operand type(s) for -: 'tuple' and 'tuple'",
     "output_type": "error",
     "traceback": [
      "\u001b[0;31m---------------------------------------------------------------------------\u001b[0m",
      "\u001b[0;31mTypeError\u001b[0m                                 Traceback (most recent call last)",
      "\u001b[1;32m/home/sungbae/DSRL_PROJECT/test.ipynb Cell 34'\u001b[0m in \u001b[0;36m<cell line: 1>\u001b[0;34m()\u001b[0m\n\u001b[0;32m----> <a href='vscode-notebook-cell://wsl%2Bubuntu-20.04/home/sungbae/DSRL_PROJECT/test.ipynb#ch0000035vscode-remote?line=0'>1</a>\u001b[0m np\u001b[39m.\u001b[39mlinalg\u001b[39m.\u001b[39mnorm(aa\u001b[39m-\u001b[39;49mbb)\n",
      "\u001b[0;31mTypeError\u001b[0m: unsupported operand type(s) for -: 'tuple' and 'tuple'"
     ]
    }
   ],
   "source": [
    "np.linalg.norm(aa-bb)"
   ]
  },
  {
   "cell_type": "code",
   "execution_count": 35,
   "metadata": {},
   "outputs": [
    {
     "data": {
      "text/plain": [
       "3.0"
      ]
     },
     "execution_count": 35,
     "metadata": {},
     "output_type": "execute_result"
    }
   ],
   "source": [
    "np.linalg.norm(np.asarray(bb) - np.array([0,0]))"
   ]
  },
  {
   "cell_type": "code",
   "execution_count": 36,
   "metadata": {},
   "outputs": [],
   "source": [
    "a = 1\n",
    "b = 2"
   ]
  },
  {
   "cell_type": "code",
   "execution_count": 37,
   "metadata": {},
   "outputs": [
    {
     "name": "stdout",
     "output_type": "stream",
     "text": [
      "False\n"
     ]
    }
   ],
   "source": [
    "print(a==b)"
   ]
  },
  {
   "cell_type": "code",
   "execution_count": 38,
   "metadata": {},
   "outputs": [],
   "source": [
    "c = a==b"
   ]
  },
  {
   "cell_type": "code",
   "execution_count": 40,
   "metadata": {},
   "outputs": [],
   "source": [
    "a = np.array([1,2])\n",
    "b = np.array([1,2])"
   ]
  },
  {
   "cell_type": "code",
   "execution_count": 42,
   "metadata": {},
   "outputs": [
    {
     "ename": "AxisError",
     "evalue": "axis 1 is out of bounds for array of dimension 1",
     "output_type": "error",
     "traceback": [
      "\u001b[0;31m---------------------------------------------------------------------------\u001b[0m",
      "\u001b[0;31mAxisError\u001b[0m                                 Traceback (most recent call last)",
      "\u001b[1;32m/home/sungbae/DSRL_PROJECT/test.ipynb Cell 40'\u001b[0m in \u001b[0;36m<cell line: 1>\u001b[0;34m()\u001b[0m\n\u001b[0;32m----> <a href='vscode-notebook-cell://wsl%2Bubuntu-20.04/home/sungbae/DSRL_PROJECT/test.ipynb#ch0000039vscode-remote?line=0'>1</a>\u001b[0m np\u001b[39m.\u001b[39;49mconcatenate((a,b),axis \u001b[39m=\u001b[39;49m \u001b[39m1\u001b[39;49m)\n",
      "File \u001b[0;32m<__array_function__ internals>:180\u001b[0m, in \u001b[0;36mconcatenate\u001b[0;34m(*args, **kwargs)\u001b[0m\n",
      "\u001b[0;31mAxisError\u001b[0m: axis 1 is out of bounds for array of dimension 1"
     ]
    }
   ],
   "source": [
    "np.concatenate((a,b),axis = 1)"
   ]
  },
  {
   "cell_type": "code",
   "execution_count": 43,
   "metadata": {},
   "outputs": [],
   "source": [
    "import random"
   ]
  },
  {
   "cell_type": "code",
   "execution_count": 46,
   "metadata": {},
   "outputs": [
    {
     "data": {
      "text/plain": [
       "1"
      ]
     },
     "execution_count": 46,
     "metadata": {},
     "output_type": "execute_result"
    }
   ],
   "source": [
    "random.randint(0,1)"
   ]
  },
  {
   "cell_type": "code",
   "execution_count": 52,
   "metadata": {},
   "outputs": [],
   "source": [
    "class test():\n",
    "    def __init__(self, **kwargs):\n",
    "        self.a = kwargs.get('c')\n",
    "        self.b = kwargs.get('d')\n",
    "    def test_print(self):\n",
    "        print(self.a, self.b)"
   ]
  },
  {
   "cell_type": "code",
   "execution_count": 45,
   "metadata": {},
   "outputs": [
    {
     "data": {
      "text/plain": [
       "{'a': 1, 'b': 2}"
      ]
     },
     "execution_count": 45,
     "metadata": {},
     "output_type": "execute_result"
    }
   ],
   "source": [
    "kwargs = dict()\n",
    "kwargs['a']=1\n",
    "kwargs['b']=2\n",
    "\n",
    "kwargs"
   ]
  },
  {
   "cell_type": "code",
   "execution_count": 54,
   "metadata": {},
   "outputs": [],
   "source": [
    "test1 = test(c=1,d=1)"
   ]
  },
  {
   "cell_type": "code",
   "execution_count": 55,
   "metadata": {},
   "outputs": [
    {
     "ename": "TypeError",
     "evalue": "__init__() missing 1 required positional argument: 'self'",
     "output_type": "error",
     "traceback": [
      "\u001b[0;31m---------------------------------------------------------------------------\u001b[0m",
      "\u001b[0;31mTypeError\u001b[0m                                 Traceback (most recent call last)",
      "\u001b[1;32m/home/sungbae/DSRL_PROJECT/test.ipynb Cell 49'\u001b[0m in \u001b[0;36m<cell line: 1>\u001b[0;34m()\u001b[0m\n\u001b[0;32m----> <a href='vscode-notebook-cell://wsl%2Bubuntu-20.04/home/sungbae/DSRL_PROJECT/test.ipynb#ch0000048vscode-remote?line=0'>1</a>\u001b[0m test\u001b[39m.\u001b[39;49m\u001b[39m__init__\u001b[39;49m(c\u001b[39m=\u001b[39;49m\u001b[39m5\u001b[39;49m,d\u001b[39m=\u001b[39;49m\u001b[39m5\u001b[39;49m)\n",
      "\u001b[0;31mTypeError\u001b[0m: __init__() missing 1 required positional argument: 'self'"
     ]
    }
   ],
   "source": [
    "test.__init__(c=5,d=5)"
   ]
  },
  {
   "cell_type": "code",
   "execution_count": 1,
   "metadata": {},
   "outputs": [
    {
     "name": "stderr",
     "output_type": "stream",
     "text": [
      "/home/sungbae/.local/share/virtualenvs/DSRL_PROJECT-4garSmRj/lib/python3.9/site-packages/tqdm/auto.py:22: TqdmWarning: IProgress not found. Please update jupyter and ipywidgets. See https://ipywidgets.readthedocs.io/en/stable/user_install.html\n",
      "  from .autonotebook import tqdm as notebook_tqdm\n"
     ]
    }
   ],
   "source": [
    "import numpy as np\n",
    "import torch\n",
    "import torch.nn as nn\n",
    "import torch.optim as optim\n",
    "import torch.nn.functional as F"
   ]
  },
  {
   "cell_type": "code",
   "execution_count": 68,
   "metadata": {},
   "outputs": [
    {
     "data": {
      "text/plain": [
       "list"
      ]
     },
     "execution_count": 68,
     "metadata": {},
     "output_type": "execute_result"
    }
   ],
   "source": [
    "type(a)"
   ]
  },
  {
   "cell_type": "code",
   "execution_count": 72,
   "metadata": {},
   "outputs": [],
   "source": [
    "b = np.array([1,2,3])\n",
    "bb = []\n",
    "for i in range(4):\n",
    "    bb.append(b)"
   ]
  },
  {
   "cell_type": "code",
   "execution_count": 73,
   "metadata": {},
   "outputs": [
    {
     "data": {
      "text/plain": [
       "[array([1, 2, 3]), array([1, 2, 3]), array([1, 2, 3]), array([1, 2, 3])]"
      ]
     },
     "execution_count": 73,
     "metadata": {},
     "output_type": "execute_result"
    }
   ],
   "source": [
    "bb"
   ]
  },
  {
   "cell_type": "code",
   "execution_count": 84,
   "metadata": {},
   "outputs": [],
   "source": [
    "a = [1,2,3]\n",
    "aa = []\n",
    "for i in range(3):\n",
    "    aa.append(a)"
   ]
  },
  {
   "cell_type": "code",
   "execution_count": 85,
   "metadata": {},
   "outputs": [
    {
     "data": {
      "text/plain": [
       "[[1, 2, 3], [1, 2, 3], [1, 2, 3]]"
      ]
     },
     "execution_count": 85,
     "metadata": {},
     "output_type": "execute_result"
    }
   ],
   "source": [
    "aa"
   ]
  },
  {
   "cell_type": "code",
   "execution_count": 77,
   "metadata": {},
   "outputs": [],
   "source": [
    "cc = np.array(bb)"
   ]
  },
  {
   "cell_type": "code",
   "execution_count": 78,
   "metadata": {},
   "outputs": [
    {
     "data": {
      "text/plain": [
       "tensor([[1., 2., 3.],\n",
       "        [1., 2., 3.],\n",
       "        [1., 2., 3.],\n",
       "        [1., 2., 3.]])"
      ]
     },
     "execution_count": 78,
     "metadata": {},
     "output_type": "execute_result"
    }
   ],
   "source": [
    "torch.tensor(cc, dtype=torch.float)"
   ]
  },
  {
   "cell_type": "code",
   "execution_count": 49,
   "metadata": {},
   "outputs": [],
   "source": [
    "device = torch.device(\"cuda\" if torch.cuda.is_available() else \"cpu\")"
   ]
  },
  {
   "cell_type": "code",
   "execution_count": 87,
   "metadata": {},
   "outputs": [],
   "source": [
    "class Q_network(nn.Module):\n",
    "    \n",
    "    def __init__(self, input_size):\n",
    "        super(Q_network, self).__init__()\n",
    "\n",
    "        self.input_size = input_size\n",
    "\n",
    "        self.fc1 = nn.Linear(self.input_size, 3)\n",
    "        self.fc2 = nn.Linear(3, 2)\n",
    "        # self.fc3 = nn.Linear(5, 2)\n",
    "\n",
    "    def forward(self, x):\n",
    "\n",
    "        # x = torch.tensor(x, dtype=torch.float32)\n",
    "        # x = torch.from_numpy(x)\n",
    "        x = torch.tensor(x, dtype=torch.float32)\n",
    "        x = F.relu(self.fc1(x))\n",
    "        # x = F.relu(self.fc2(x))\n",
    "        x = self.fc2(x)\n",
    "\n",
    "        return x"
   ]
  },
  {
   "cell_type": "code",
   "execution_count": 80,
   "metadata": {},
   "outputs": [
    {
     "name": "stdout",
     "output_type": "stream",
     "text": [
      "cpu\n"
     ]
    }
   ],
   "source": [
    "print(device)"
   ]
  },
  {
   "cell_type": "code",
   "execution_count": 88,
   "metadata": {},
   "outputs": [],
   "source": [
    "q = Q_network(3)"
   ]
  },
  {
   "cell_type": "code",
   "execution_count": 82,
   "metadata": {},
   "outputs": [
    {
     "data": {
      "text/plain": [
       "[1, 2, 3]"
      ]
     },
     "execution_count": 82,
     "metadata": {},
     "output_type": "execute_result"
    }
   ],
   "source": [
    "a"
   ]
  },
  {
   "cell_type": "code",
   "execution_count": 90,
   "metadata": {},
   "outputs": [
    {
     "data": {
      "text/plain": [
       "[[1, 2, 3], [1, 2, 3], [1, 2, 3]]"
      ]
     },
     "execution_count": 90,
     "metadata": {},
     "output_type": "execute_result"
    }
   ],
   "source": [
    "aa"
   ]
  },
  {
   "cell_type": "code",
   "execution_count": 94,
   "metadata": {},
   "outputs": [
    {
     "name": "stderr",
     "output_type": "stream",
     "text": [
      "/tmp/ipykernel_8639/296276274.py:16: UserWarning: To copy construct from a tensor, it is recommended to use sourceTensor.clone().detach() or sourceTensor.clone().detach().requires_grad_(True), rather than torch.tensor(sourceTensor).\n",
      "  x = torch.tensor(x, dtype=torch.float32)\n"
     ]
    },
    {
     "data": {
      "text/plain": [
       "tensor([[-0.2445,  0.6678],\n",
       "        [-0.2445,  0.6678],\n",
       "        [-0.2445,  0.6678]], grad_fn=<AddmmBackward0>)"
      ]
     },
     "execution_count": 94,
     "metadata": {},
     "output_type": "execute_result"
    }
   ],
   "source": [
    "q(torch.tensor(aa))"
   ]
  },
  {
   "cell_type": "code",
   "execution_count": 95,
   "metadata": {},
   "outputs": [],
   "source": [
    "d = np.array([1,2])"
   ]
  },
  {
   "cell_type": "code",
   "execution_count": 96,
   "metadata": {},
   "outputs": [
    {
     "data": {
      "text/plain": [
       "numpy.ndarray"
      ]
     },
     "execution_count": 96,
     "metadata": {},
     "output_type": "execute_result"
    }
   ],
   "source": [
    "type(d)"
   ]
  },
  {
   "cell_type": "code",
   "execution_count": 98,
   "metadata": {},
   "outputs": [
    {
     "data": {
      "text/plain": [
       "True"
      ]
     },
     "execution_count": 98,
     "metadata": {},
     "output_type": "execute_result"
    }
   ],
   "source": [
    "type(d) is np.ndarray"
   ]
  },
  {
   "cell_type": "code",
   "execution_count": null,
   "metadata": {},
   "outputs": [],
   "source": []
  }
 ],
 "metadata": {
  "kernelspec": {
   "display_name": "DSRL_PROJECT",
   "language": "python",
   "name": "dsrl_project"
  },
  "language_info": {
   "codemirror_mode": {
    "name": "ipython",
    "version": 3
   },
   "file_extension": ".py",
   "mimetype": "text/x-python",
   "name": "python",
   "nbconvert_exporter": "python",
   "pygments_lexer": "ipython3",
   "version": "3.9.0"
  },
  "orig_nbformat": 4
 },
 "nbformat": 4,
 "nbformat_minor": 2
}
